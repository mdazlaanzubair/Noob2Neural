{
  "nbformat": 4,
  "nbformat_minor": 0,
  "metadata": {
    "colab": {
      "provenance": [],
      "authorship_tag": "ABX9TyMrHVAocl7a6qwfe8SmLYMl",
      "include_colab_link": true
    },
    "kernelspec": {
      "name": "python3",
      "display_name": "Python 3"
    },
    "language_info": {
      "name": "python"
    }
  },
  "cells": [
    {
      "cell_type": "markdown",
      "metadata": {
        "id": "view-in-github",
        "colab_type": "text"
      },
      "source": [
        "<a href=\"https://colab.research.google.com/github/mdazlaanzubair/Noob2Neural/blob/main/The_DD.ipynb\" target=\"_parent\"><img src=\"https://colab.research.google.com/assets/colab-badge.svg\" alt=\"Open In Colab\"/></a>"
      ]
    },
    {
      "cell_type": "markdown",
      "source": [
        "# **The DD**\n",
        "The Digits Detector is a simple project that uses a neural network to classify the handwritten digits. In this project their were two neural networks were formed to test the accuracy and performance. In first neural network the there are only 2x layers i.e. \"Input\", and \"Output\" layers. While in second neural network a hidden layer will be added in between the two aforementioned layers to test the performance improvement."
      ],
      "metadata": {
        "id": "odUTdgBQ9Y4i"
      }
    },
    {
      "cell_type": "markdown",
      "source": [
        "### **Dependencies**\n",
        "\n",
        "Following are the dependencies or libraries being used to create the said neural network:\n",
        "\n",
        "*   **TensorFlow** - An open-source software library for machine learning and artificial intelligence. It can be used to develop models for various tasks, including natural language processing, image recognition, handwriting recognition, and different computational-based simulations such as partial differential equations.\n",
        "\n",
        "*   **Keras** - A high-level API of the TensorFlow platform. It provides an approachable, highly-productive interface for solving machine learning (ML) problems, with a focus on modern deep learning.\n",
        "\n",
        "*   **Matplotlib** - A comprehensive library for creating static, animated, and interactive visualizations in Python. It create publication quality plots. Make interactive figures that can zoom, pan, update.\n",
        "\n",
        "*   **Numpy** - It is used to perform a wide variety of mathematical operations on arrays. It adds powerful data structures to Python that guarantee efficient calculations with arrays and matrices and it supplies an enormous library of high-level mathematical functions that operate on these arrays and matrices.\n",
        "\n",
        "*   **MNIST Dataset** - Modified National Institute of Standards and Technology is a large collection of handwritten digits, ranging from **0** to **9**. It is a very popular dataset in the field of image processing. It is often used for benchmarking machine learning algorithms."
      ],
      "metadata": {
        "id": "ZIyoTpLc61H1"
      }
    },
    {
      "cell_type": "code",
      "execution_count": 2,
      "metadata": {
        "id": "wMjoeqMf6ESd"
      },
      "outputs": [],
      "source": [
        "# IMPORTING NECESSARY LIBRARIES\n",
        "import tensorflow as tf\n",
        "from tensorflow import keras\n",
        "import matplotlib.pyplot as ploter\n",
        "%matplotlib inline\n",
        "import numpy as np"
      ]
    },
    {
      "cell_type": "code",
      "source": [
        "# LOADING MNIST DATASET USING KERAS\n",
        "\n",
        "(x_train, y_train), (x_test, y_test) = keras.datasets.mnist.load_data()"
      ],
      "metadata": {
        "id": "muTrtciECx_j"
      },
      "execution_count": 11,
      "outputs": []
    },
    {
      "cell_type": "code",
      "source": [
        "# PREVIEWING OUR LOADED DATA USING MATPLOT LIBRARY\n",
        "\n",
        "ploter.matshow(x_train[0])\n",
        "print(y_train[0])\n",
        "ploter.matshow(x_test[0])\n",
        "print(y_test[0])"
      ],
      "metadata": {
        "id": "kHOjiRVTGcun"
      },
      "execution_count": null,
      "outputs": []
    },
    {
      "cell_type": "code",
      "source": [],
      "metadata": {
        "id": "87lvMcIvHedi"
      },
      "execution_count": null,
      "outputs": []
    }
  ]
}