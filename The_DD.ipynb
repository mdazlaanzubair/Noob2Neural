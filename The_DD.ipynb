{
  "nbformat": 4,
  "nbformat_minor": 0,
  "metadata": {
    "colab": {
      "provenance": [],
      "authorship_tag": "ABX9TyMVXuCp16zQziwIReszqh0l",
      "include_colab_link": true
    },
    "kernelspec": {
      "name": "python3",
      "display_name": "Python 3"
    },
    "language_info": {
      "name": "python"
    }
  },
  "cells": [
    {
      "cell_type": "markdown",
      "metadata": {
        "id": "view-in-github",
        "colab_type": "text"
      },
      "source": [
        "<a href=\"https://colab.research.google.com/github/mdazlaanzubair/Noob2Neural/blob/main/The_DD.ipynb\" target=\"_parent\"><img src=\"https://colab.research.google.com/assets/colab-badge.svg\" alt=\"Open In Colab\"/></a>"
      ]
    },
    {
      "cell_type": "markdown",
      "source": [
        "# **The DD**\n",
        "The Digits Detector is a simple project that uses a neural network to classify the handwritten digits. In this project their were two neural networks were formed to test the accuracy and performance. In first neural network the there are only 2x layers i.e. \"Input\", and \"Output\" layers. While in second neural network a hidden layer will be added in between the two aforementioned layers to test the performance improvement."
      ],
      "metadata": {
        "id": "odUTdgBQ9Y4i"
      }
    },
    {
      "cell_type": "markdown",
      "source": [
        "### **Dependencies**\n",
        "\n",
        "Following are the dependencies or libraries being used to create the said neural network:\n",
        "\n",
        "*   **TensorFlow** - An open-source software library for machine learning and artificial intelligence. It can be used to develop models for various tasks, including natural language processing, image recognition, handwriting recognition, and different computational-based simulations such as partial differential equations.\n",
        "\n",
        "*   **Keras** - A high-level API of the TensorFlow platform. It provides an approachable, highly-productive interface for solving machine learning (ML) problems, with a focus on modern deep learning.\n",
        "\n",
        "*   **Matplotlib** - A comprehensive library for creating static, animated, and interactive visualizations in Python. It create publication quality plots. Make interactive figures that can zoom, pan, update.\n",
        "\n",
        "*   **Numpy** - It is used to perform a wide variety of mathematical operations on arrays. It adds powerful data structures to Python that guarantee efficient calculations with arrays and matrices and it supplies an enormous library of high-level mathematical functions that operate on these arrays and matrices."
      ],
      "metadata": {
        "id": "ZIyoTpLc61H1"
      }
    },
    {
      "cell_type": "code",
      "execution_count": null,
      "metadata": {
        "id": "wMjoeqMf6ESd"
      },
      "outputs": [],
      "source": [
        "import tensorflow as tf\n",
        "from tensorflow import keras\n",
        "import matplotlib.pyplot as ploter\n",
        "%matplotlib inline\n",
        "impoort numpy as np"
      ]
    }
  ]
}